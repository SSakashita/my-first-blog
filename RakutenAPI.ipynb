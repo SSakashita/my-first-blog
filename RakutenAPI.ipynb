{
  "nbformat": 4,
  "nbformat_minor": 0,
  "metadata": {
    "colab": {
      "name": "RakutenAPI.ipynb",
      "provenance": [],
      "collapsed_sections": [],
      "authorship_tag": "ABX9TyN2R/rTY4QUWvqXmd9Wdm2E",
      "include_colab_link": true
    },
    "kernelspec": {
      "name": "python3",
      "display_name": "Python 3"
    }
  },
  "cells": [
    {
      "cell_type": "markdown",
      "metadata": {
        "id": "view-in-github",
        "colab_type": "text"
      },
      "source": [
        "<a href=\"https://colab.research.google.com/github/SSakashita/my-first-blog/blob/master/RakutenAPI.ipynb\" target=\"_parent\"><img src=\"https://colab.research.google.com/assets/colab-badge.svg\" alt=\"Open In Colab\"/></a>"
      ]
    },
    {
      "cell_type": "markdown",
      "metadata": {
        "id": "T5VEmTLtwPU1"
      },
      "source": [
        "モジュールインポート"
      ]
    },
    {
      "cell_type": "code",
      "metadata": {
        "id": "-PMBKILdwNV8"
      },
      "source": [
        "import requests"
      ],
      "execution_count": null,
      "outputs": []
    },
    {
      "cell_type": "markdown",
      "metadata": {
        "id": "MK_v5Buavks4"
      },
      "source": [
        "楽天APIの設定"
      ]
    },
    {
      "cell_type": "code",
      "metadata": {
        "id": "SGQsrQyE0v10"
      },
      "source": [
        "REQUEST_URL = \"https://app.rakuten.co.jp/services/api/IchibaItem/Search/20170706?\"\n",
        "APP_ID = \"1024919063741527422\"\n"
      ],
      "execution_count": null,
      "outputs": []
    },
    {
      "cell_type": "markdown",
      "metadata": {
        "id": "r60SfCWpvkrQ"
      },
      "source": [
        "取得する関数"
      ]
    },
    {
      "cell_type": "code",
      "metadata": {
        "id": "e3Qch0NWv08H"
      },
      "source": [
        "def kick_rakten_api(barcode):\n",
        "    # パラメータの設定\n",
        "    r_params = {\n",
        "            \"format\"        : \"json\"\n",
        "          , \"keyword\"       : barcode\n",
        "          , \"applicationId\" : [APP_ID]\n",
        "          , \"availability\"  : 1\n",
        "          , \"hits\"          : 1\n",
        "          , \"sort\"          : \"+itemPrice\"\n",
        "          }\n",
        "    # Get\n",
        "    response = requests.get(REQUEST_URL, r_params)\n",
        "    # APIから返却された出力パラメーターを取得\n",
        "    result = response.json()\n",
        "\n",
        "\n",
        "    # 確認のために出力\n",
        "    # print(result)\n",
        "    \n",
        "    try:\n",
        "      item = result[\"Items\"][0][\"Item\"]\n",
        "      return item\n",
        "    except \n"
      ],
      "execution_count": null,
      "outputs": []
    },
    {
      "cell_type": "markdown",
      "metadata": {
        "id": "HjH88xAw4lKS"
      },
      "source": [
        "出力"
      ]
    },
    {
      "cell_type": "code",
      "metadata": {
        "id": "YrUI1AwF4m5C",
        "outputId": "617577cd-4fb8-4a49-9a14-f9b15e5d5d8e",
        "colab": {
          "base_uri": "https://localhost:8080/",
          "height": 400
        }
      },
      "source": [
        "item = kick_rakten_api(\"4901085060032\")\n",
        "\n",
        "if item['itemName'] == '':\n",
        "  return False\n",
        "else:\n",
        "  return item['itemName']"
      ],
      "execution_count": null,
      "outputs": [
        {
          "output_type": "stream",
          "text": [
            "{'Items': [], 'pageCount': 0, 'TagInformation': [], 'hits': 0, 'last': 0, 'count': 0, 'page': 1, 'carrier': 0, 'GenreInformation': [], 'first': 0}\n"
          ],
          "name": "stdout"
        },
        {
          "output_type": "error",
          "ename": "IndexError",
          "evalue": "ignored",
          "traceback": [
            "\u001b[0;31m---------------------------------------------------------------------------\u001b[0m",
            "\u001b[0;31mIndexError\u001b[0m                                Traceback (most recent call last)",
            "\u001b[0;32m<ipython-input-14-81f25210220d>\u001b[0m in \u001b[0;36m<module>\u001b[0;34m()\u001b[0m\n\u001b[0;32m----> 1\u001b[0;31m \u001b[0mitem\u001b[0m \u001b[0;34m=\u001b[0m \u001b[0mkick_rakten_api\u001b[0m\u001b[0;34m(\u001b[0m\u001b[0;34m\"4901085060032\"\u001b[0m\u001b[0;34m)\u001b[0m\u001b[0;34m\u001b[0m\u001b[0;34m\u001b[0m\u001b[0m\n\u001b[0m\u001b[1;32m      2\u001b[0m \u001b[0;34m\u001b[0m\u001b[0m\n\u001b[1;32m      3\u001b[0m \u001b[0;32mif\u001b[0m \u001b[0mitem\u001b[0m\u001b[0;34m[\u001b[0m\u001b[0;34m'itemName'\u001b[0m\u001b[0;34m]\u001b[0m \u001b[0;34m==\u001b[0m \u001b[0;34m''\u001b[0m\u001b[0;34m:\u001b[0m\u001b[0;34m\u001b[0m\u001b[0;34m\u001b[0m\u001b[0m\n\u001b[1;32m      4\u001b[0m   \u001b[0;32mreturn\u001b[0m \u001b[0;32mFalse\u001b[0m\u001b[0;34m\u001b[0m\u001b[0;34m\u001b[0m\u001b[0m\n\u001b[1;32m      5\u001b[0m \u001b[0;32melse\u001b[0m\u001b[0;34m:\u001b[0m\u001b[0;34m\u001b[0m\u001b[0;34m\u001b[0m\u001b[0m\n",
            "\u001b[0;32m<ipython-input-12-2f538f5d28a2>\u001b[0m in \u001b[0;36mkick_rakten_api\u001b[0;34m(barcode)\u001b[0m\n\u001b[1;32m     16\u001b[0m     \u001b[0;31m# 確認のために出力\u001b[0m\u001b[0;34m\u001b[0m\u001b[0;34m\u001b[0m\u001b[0;34m\u001b[0m\u001b[0m\n\u001b[1;32m     17\u001b[0m     \u001b[0mprint\u001b[0m\u001b[0;34m(\u001b[0m\u001b[0mresult\u001b[0m\u001b[0;34m)\u001b[0m\u001b[0;34m\u001b[0m\u001b[0;34m\u001b[0m\u001b[0m\n\u001b[0;32m---> 18\u001b[0;31m     \u001b[0mitem\u001b[0m \u001b[0;34m=\u001b[0m \u001b[0mresult\u001b[0m\u001b[0;34m[\u001b[0m\u001b[0;34m\"Items\"\u001b[0m\u001b[0;34m]\u001b[0m\u001b[0;34m[\u001b[0m\u001b[0;36m0\u001b[0m\u001b[0;34m]\u001b[0m\u001b[0;34m[\u001b[0m\u001b[0;34m\"Item\"\u001b[0m\u001b[0;34m]\u001b[0m\u001b[0;34m\u001b[0m\u001b[0;34m\u001b[0m\u001b[0m\n\u001b[0m\u001b[1;32m     19\u001b[0m     \u001b[0mitem_name\u001b[0m \u001b[0;34m=\u001b[0m \u001b[0mitem\u001b[0m\u001b[0;34m[\u001b[0m\u001b[0;34m\"itemName\"\u001b[0m\u001b[0;34m]\u001b[0m\u001b[0;34m\u001b[0m\u001b[0;34m\u001b[0m\u001b[0m\n\u001b[1;32m     20\u001b[0m     \u001b[0mitem_price\u001b[0m \u001b[0;34m=\u001b[0m \u001b[0mitem\u001b[0m\u001b[0;34m[\u001b[0m\u001b[0;34m\"itemPrice\"\u001b[0m\u001b[0;34m]\u001b[0m\u001b[0;34m\u001b[0m\u001b[0;34m\u001b[0m\u001b[0m\n",
            "\u001b[0;31mIndexError\u001b[0m: list index out of range"
          ]
        }
      ]
    }
  ]
}